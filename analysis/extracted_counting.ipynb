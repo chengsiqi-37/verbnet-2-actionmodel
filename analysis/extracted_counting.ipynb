{
 "cells": [
  {
   "cell_type": "markdown",
   "id": "39c99395",
   "metadata": {},
   "source": [
    "## Extracted Action Models: raw vs filtered\n",
    "\n",
    "The extraction of valid action models from VerbNet annotations is a multi-step process. First, VerbNet annotations is converted into a raw STRIPS format. Following this conversion, a subsequent processing stage is reuiqred to refine thses raw actions into a valid collection of action models. This section leverages this two-stage methodology to analyse the quality and suitability of VerbNet annotation for the task of action model extraction."
   ]
  },
  {
   "cell_type": "code",
   "execution_count": 1,
   "id": "686f0cc3",
   "metadata": {},
   "outputs": [],
   "source": [
    "import json \n",
    "\n",
    "raw_STRIPS = '../examples/extracted_unfiltered_STRIPS.json'\n",
    "# raw_STRIPS = '../output/action_model.json'\n",
    "filtered_STRIPS = '../examples/extracted_filtered_STRIPS.json'\n",
    "\n",
    "with open(raw_STRIPS, 'r') as f:\n",
    "    raw_data = json.load(f)\n",
    "\n",
    "with open(filtered_STRIPS, 'r') as f:\n",
    "    filtered_data = json.load(f)"
   ]
  },
  {
   "cell_type": "markdown",
   "id": "17f3f964",
   "metadata": {},
   "source": [
    "### Valid models in raw data\n",
    "\n",
    "Theoretically, each frame schema within VerbNet annotaion can be mapped to an action model. However, numerous special cases prevent a one-to-one conversion. For instance, some frames may lack of valid predicates or fail to annotate the effects of an action. \n",
    "\n",
    "Defining a valid action model as one requiring at least one specificed effect, we can access the quality of the raw extraction. Based on the counting results, out of 1591 action frames initially extracted, only 1166 were found to satisfy the condition of having at least one valid effect and were therefore considered valid models."
   ]
  },
  {
   "cell_type": "code",
   "execution_count": 2,
   "id": "dd4773c0",
   "metadata": {},
   "outputs": [
    {
     "name": "stdout",
     "output_type": "stream",
     "text": [
      "total action frames: 1591\n",
      "valid extracted action models: 1166 from 602 classes\n"
     ]
    }
   ],
   "source": [
    "# how many valid action models in raw\n",
    "valid_count = 0\n",
    "for entry in raw_data:\n",
    "    frames = entry.get('frames', [])\n",
    "    for frame in frames:\n",
    "        postconditions = frame.get('postconditions', [])\n",
    "        if len(postconditions) > 0:\n",
    "             valid_count += 1\n",
    "\n",
    "print(f\"total action frames: {sum(len(entry.get('frames', [])) for entry in raw_data)}\")\n",
    "print(f\"valid extracted action models: {valid_count} from {len(raw_data)} classes\")"
   ]
  },
  {
   "cell_type": "markdown",
   "id": "62690344",
   "metadata": {},
   "source": [
    "Furthermore, the following code analyses the invalid frames and reveals the distribution of failures across different VerbNet classes.\n",
    "\n",
    "In 18 VerbNet classes, no valid action models could be extracted at all. A more common issue was observed in an additional 170 classes, where the extracted action models consistently lacked any annotated effects, thereby failing the validity criteria."
   ]
  },
  {
   "cell_type": "code",
   "execution_count": 3,
   "id": "dcdbf1a1",
   "metadata": {},
   "outputs": [
    {
     "name": "stdout",
     "output_type": "stream",
     "text": [
      "classes with no valid action model: 18\n",
      "classes with no postconditions: 170\n"
     ]
    }
   ],
   "source": [
    "classes_with_no_postconditions = []\n",
    "classes_with_no_valid_frame = []\n",
    "\n",
    "for entry in raw_data:\n",
    "    verb = entry.get('class_id', 'null')\n",
    "    frames = entry.get('frames', [])\n",
    "    if len(frames) == 0:\n",
    "        classes_with_no_valid_frame.append(verb)\n",
    "        continue\n",
    "    if all(len(frame['postconditions']) == 0 for frame in frames):\n",
    "        classes_with_no_postconditions.append(verb)\n",
    "\n",
    "print(f\"classes with no valid action model: {len(classes_with_no_valid_frame)}\")\n",
    "print(f\"classes with no postconditions: {len(classes_with_no_postconditions)}\")"
   ]
  },
  {
   "cell_type": "markdown",
   "id": "1dcd8bf6",
   "metadata": {},
   "source": [
    "### Valid model in filtered data\n",
    "\n",
    "To ensure the consistency and integrity of the final dataset, a subsequent filetering stage is applied to remove both invalid and duplicated entrires from the set of valid models. This refinement process yields a final corpus of 432 unique action models, derived from 329 top-level classes."
   ]
  },
  {
   "cell_type": "code",
   "execution_count": 4,
   "id": "017ad7d1",
   "metadata": {},
   "outputs": [
    {
     "name": "stdout",
     "output_type": "stream",
     "text": [
      "action models after merging duplicates: 432\n",
      "classes after merging subclasses: 329\n"
     ]
    }
   ],
   "source": [
    "print(f\"action models after merging duplicates: {sum(len(entry.get('frames', [])) for entry in filtered_data)}\")\n",
    "print(f\"classes after merging subclasses: {len(filtered_data)}\")"
   ]
  },
  {
   "cell_type": "markdown",
   "id": "83818811",
   "metadata": {},
   "source": [
    "The contribution of frames per class ranges widely. At the upper end, four classes (such as *break*) each provide a maximum of six distinct frames. In contracst, 87 classes fail to produce any valid frames."
   ]
  },
  {
   "cell_type": "code",
   "execution_count": 5,
   "id": "9d62aed4",
   "metadata": {},
   "outputs": [
    {
     "name": "stdout",
     "output_type": "stream",
     "text": [
      "Most unique frames in a class: 6\n",
      "  class with most unique frames: ['break']\n",
      "  classes with the most unique frames: 4\n",
      "Least unique frame in a class: 0\n",
      "  class with least unique frames: ['act']\n",
      "  classes with the least unique frames: 87\n"
     ]
    }
   ],
   "source": [
    "# Count all classes with the most unique frames\n",
    "max_frame_count = 0\n",
    "min_frame_count = 0\n",
    "\n",
    "for entry in filtered_data:\n",
    "    frames = entry.get('frames', [])\n",
    "    if len(frames) > max_frame_count:\n",
    "        max_frame_count = len(frames)\n",
    "    elif len(frames) < min_frame_count:\n",
    "        min_frame_count = len(frames)\n",
    "\n",
    "classes_w_max_frames = []\n",
    "classes_w_min_frames = []\n",
    "\n",
    "for entry in filtered_data:\n",
    "    class_name = entry.get('class_id')\n",
    "    frames = entry.get('frames', [])\n",
    "    if len(frames) == max_frame_count:\n",
    "        classes_w_max_frames.append(class_name)\n",
    "    elif len(frames) == min_frame_count:\n",
    "        classes_w_min_frames.append(class_name)\n",
    "\n",
    "print(f\"Most unique frames in a class: {max_frame_count}\")\n",
    "print(f\"  class with most unique frames: {classes_w_max_frames[:1]}\")\n",
    "print(f\"  classes with the most unique frames: {len(classes_w_max_frames)}\")\n",
    "print(f\"Least unique frame in a class: {min_frame_count}\")\n",
    "print(f\"  class with least unique frames: {classes_w_min_frames[:1]}\")\n",
    "print(f\"  classes with the least unique frames: {len(classes_w_min_frames)}\")"
   ]
  },
  {
   "cell_type": "markdown",
   "id": "b87e1483",
   "metadata": {},
   "source": [
    "A similar analysis is performed on the filtered data to count the number of classes that lack of valid models. The results shows that the filetering process ultimately leaves 87 classes with no valid models, while the remaining each contain has at least one model that satisfies the basic requirements."
   ]
  },
  {
   "cell_type": "code",
   "execution_count": 6,
   "id": "4510f964",
   "metadata": {},
   "outputs": [
    {
     "name": "stdout",
     "output_type": "stream",
     "text": [
      "classes with no valid action model: 87\n",
      "classes with no postconditions: 0\n"
     ]
    }
   ],
   "source": [
    "classes_with_no_postconditions = []\n",
    "classes_with_no_valid_frame = []\n",
    "\n",
    "for entry in filtered_data:\n",
    "    verb = entry.get('class_id', 'null')\n",
    "    frames = entry.get('frames', [])\n",
    "    if len(frames) == 0:\n",
    "        classes_with_no_valid_frame.append(verb)\n",
    "        continue\n",
    "    if all(len(frame['postconditions']) == 0 for frame in frames):\n",
    "        classes_with_no_postconditions.append(verb)\n",
    "\n",
    "print(f\"classes with no valid action model: {len(classes_with_no_valid_frame)}\")\n",
    "print(f\"classes with no postconditions: {len(classes_with_no_postconditions)}\")"
   ]
  }
 ],
 "metadata": {
  "kernelspec": {
   "display_name": "verbnet2actionmodel",
   "language": "python",
   "name": "python3"
  },
  "language_info": {
   "codemirror_mode": {
    "name": "ipython",
    "version": 3
   },
   "file_extension": ".py",
   "mimetype": "text/x-python",
   "name": "python",
   "nbconvert_exporter": "python",
   "pygments_lexer": "ipython3",
   "version": "3.12.3"
  }
 },
 "nbformat": 4,
 "nbformat_minor": 5
}
