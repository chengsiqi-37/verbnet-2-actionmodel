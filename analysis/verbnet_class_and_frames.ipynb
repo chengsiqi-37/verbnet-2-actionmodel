{
 "cells": [
  {
   "cell_type": "markdown",
   "id": "770cf281",
   "metadata": {},
   "source": [
    "## Number of VerbNet 3.4 Classes and Frames\n",
    "\n",
    "This section reports the number of VerbNet classes and frames in each class based on the original verbnet annotation."
   ]
  },
  {
   "cell_type": "code",
   "execution_count": 1,
   "id": "17e03ff7",
   "metadata": {},
   "outputs": [],
   "source": [
    "import json\n",
    "\n",
    "with open('../src/data/verbnet3.4.json', 'r') as json_file:\n",
    "    data = json.load(json_file)"
   ]
  },
  {
   "cell_type": "markdown",
   "id": "ac494e4a",
   "metadata": {},
   "source": [
    "### Counting classes\n",
    "\n",
    "VerbNet encodes a hierarchical structure where a class can contain one or more subclasses. In the annotation, subclasses appear at least twice within the resource: (i) as standalone entries and (ii) as references in their parent’s `subclasses` field. The deeper a subclass is nested, the more frequently it will appear in the records of its ancestors. Therefore, a straightforward method to obtain all unique class entries in VerbNet is to count only the top level entries, disregarding the subclass annotations.\n",
    "\n",
    "To validate this approach, a script was developed to unfold all subclasses and ascertain if the total number of unique classes corresponds to the number of top level entries in VerbNet. \n",
    "\n",
    "This script recursively extracts all entries from the subclasses field and lists them as independent classes, producing a total of 953 class entries. Within this expanded list, 351 entries were found to be duplicates, and there are only 602 unique classes among these entries."
   ]
  },
  {
   "cell_type": "code",
   "execution_count": 2,
   "id": "403c1077",
   "metadata": {},
   "outputs": [
    {
     "name": "stdout",
     "output_type": "stream",
     "text": [
      "Total unfolded class entries (including subclasses): 953 \n",
      "Duplicated entries: 351\n",
      "Unique entries: 602\n"
     ]
    }
   ],
   "source": [
    "def unfold_subclasses(entries: list) -> list:\n",
    "    \"\"\"\n",
    "    Recursively unfolds subclasses into the main entries list.\n",
    "    \"\"\"\n",
    "    unfolded = []\n",
    "    for entry in entries:\n",
    "        unfolded.append(entry)\n",
    "        subclasses = entry.get('subclasses', [])\n",
    "        if subclasses:\n",
    "            unfolded.extend(unfold_subclasses(subclasses))\n",
    "    return unfolded\n",
    "\n",
    "\n",
    "entries = data.get('VerbNet', [])\n",
    "unfolded_entries = unfold_subclasses(entries)\n",
    "\n",
    "print(f\"Total unfolded class entries (including subclasses): {len(unfolded_entries)} \")\n",
    "\n",
    "duplicated_classes = 0\n",
    "for entry in entries:\n",
    "    class_id = entry.get('class_id', None)\n",
    "    count = 0\n",
    "    for unfolded_entry in unfolded_entries:\n",
    "        if unfolded_entry.get('class_id') == class_id:\n",
    "            count += 1\n",
    "    if count > 1:\n",
    "        duplicated_classes += (count-1)\n",
    "assert duplicated_classes == len(unfolded_entries) - len(entries), \"The number of duplicated classes doesn't match the number of total classes\"\n",
    "print(f\"Duplicated entries: {duplicated_classes}\")\n",
    "\n",
    "unique_classes = set()\n",
    "for enty in unfolded_entries:\n",
    "    class_id = enty.get('class_id', '[no ID]')\n",
    "    unique_classes.add(class_id)\n",
    "print(f\"Unique entries: {len(unique_classes)}\")"
   ]
  },
  {
   "cell_type": "markdown",
   "id": "6d310af4",
   "metadata": {},
   "source": [
    "On the other hand, the total number of class entries listed in VerbNet is precisely 602. This confirms that VerbNet already provides a distinct record for every top level class and subclass, with the parent and child relationships serving as cross references between these records.\n",
    "\n",
    "Consequently, we report the number of distinct classes in VerbNet as 602."
   ]
  },
  {
   "cell_type": "code",
   "execution_count": 3,
   "id": "28a1d270",
   "metadata": {},
   "outputs": [
    {
     "name": "stdout",
     "output_type": "stream",
     "text": [
      "Entries in VerbNet: 602\n"
     ]
    }
   ],
   "source": [
    "print(f\"Entries in VerbNet: {len(entries)}\")\n",
    "assert len(entries) == len(unique_classes), \"The number of entries in VerbNet is different from the number of unique classes\""
   ]
  },
  {
   "cell_type": "markdown",
   "id": "8eddc6dc",
   "metadata": {},
   "source": [
    "Out of these 602 classes, 329 have been identified as top-level classes, featuring subclass hierarchies that reach a maximum depth of five levels."
   ]
  },
  {
   "cell_type": "code",
   "execution_count": 4,
   "id": "b6cecac8",
   "metadata": {},
   "outputs": [
    {
     "name": "stdout",
     "output_type": "stream",
     "text": [
      "Top-level classes: 329\n",
      "max depth of subclass: 5\n"
     ]
    }
   ],
   "source": [
    "top_level_class = set()\n",
    "max_depth = 0\n",
    "for entry in entries:\n",
    "    name = entry.get('class_id', 'unknown')\n",
    "    if len(name.split('-')) == 2:\n",
    "        top_level_class.add(name)\n",
    "    max_depth = max(len(name.split('-')), max_depth)\n",
    "print(f\"Top-level classes: {len(top_level_class)}\")\n",
    "print(f\"max depth of subclass: {max_depth}\")"
   ]
  },
  {
   "cell_type": "markdown",
   "id": "fa3bdd5f",
   "metadata": {},
   "source": [
    "### Counting frames\n",
    "\n",
    "Frames are the frame schemas attached to classes. Each frame schema attributes to an usage of the verb. After aggregating over all class entries, the total number of frames in VerbNet is 1591"
   ]
  },
  {
   "cell_type": "code",
   "execution_count": 5,
   "id": "6731ff05",
   "metadata": {},
   "outputs": [
    {
     "name": "stdout",
     "output_type": "stream",
     "text": [
      "Total frames in VerbNet: 1591\n"
     ]
    }
   ],
   "source": [
    "class_nframes = dict()\n",
    "entries = data.get('VerbNet', [])\n",
    "for entry in entries:\n",
    "    frames = entry['frames']\n",
    "    class_nframes[entry['class_id']] = len(frames)\n",
    "\n",
    "print(\"Total frames in VerbNet: \" + str(sum(class_nframes.values())))\n"
   ]
  }
 ],
 "metadata": {
  "kernelspec": {
   "display_name": "verbnet2actionmodel",
   "language": "python",
   "name": "python3"
  },
  "language_info": {
   "codemirror_mode": {
    "name": "ipython",
    "version": 3
   },
   "file_extension": ".py",
   "mimetype": "text/x-python",
   "name": "python",
   "nbconvert_exporter": "python",
   "pygments_lexer": "ipython3",
   "version": "3.12.3"
  }
 },
 "nbformat": 4,
 "nbformat_minor": 5
}
