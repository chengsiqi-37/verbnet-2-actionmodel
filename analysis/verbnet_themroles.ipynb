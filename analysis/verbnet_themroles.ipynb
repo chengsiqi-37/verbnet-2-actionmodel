{
 "cells": [
  {
   "cell_type": "markdown",
   "id": "d2da492f",
   "metadata": {},
   "source": [
    "## Thematic roles in VerbNet 3.4\n",
    "\n",
    "Thematic roles, often abbreviated as ThemRole,  are a fundamental component of semantic annotation in VerbNet. They describe the semantic relationship between a predicate and its arguments $[1]$ . \n",
    "\n",
    "However, VerbNet 3.4 introduced significant changes but stil lacks comprehensive documentation. In the absence of a specific thematic role guideline for this version and considering the reliance of this work on these roles, this section discusses the set of thematic roles employed."
   ]
  },
  {
   "cell_type": "code",
   "execution_count": 1,
   "id": "fa385539",
   "metadata": {},
   "outputs": [],
   "source": [
    "import json\n",
    "\n",
    "data_dir = '../src/data'\n",
    "output_dir = '../output'\n",
    "vn_dir = f'{data_dir}/verbnet3.4.json'\n",
    "AM_model_path = f\"{output_dir}/extracted_filtered_STRIPS.json\"\n",
    "thematic_tree_path = f'{data_dir}/vn_semanticrole_hierarchy.json'\n",
    "\n",
    "# themrole heirarchy tree\n",
    "with open(thematic_tree_path, 'r', encoding='utf-8') as f:\n",
    "    tree_data = json.load(f)\n",
    "\n",
    "# extracted STRIPS model\n",
    "with open(AM_model_path, \"r\") as f:\n",
    "    am_data = json.load(f)"
   ]
  },
  {
   "cell_type": "markdown",
   "id": "bce692b1",
   "metadata": {},
   "source": [
    "### The Standard Thematic Role Hierarchy\n",
    "\n",
    "The thematic role hierarchy graph provided on the [Unified Verb Index reference page](https://uvi.colorado.edu/references_page) $[2]$ serves as the standard for this research. This hierarchy outlines a total of 41 thematic roles, which are hereafter referred to as the standard thematic roles."
   ]
  },
  {
   "cell_type": "code",
   "execution_count": 2,
   "id": "1e0630f0",
   "metadata": {},
   "outputs": [
    {
     "name": "stdout",
     "output_type": "stream",
     "text": [
      "total themroles in themrole hierarchy: 41\n"
     ]
    }
   ],
   "source": [
    "# get all values in tree data\n",
    "themrole_tree_set = set()\n",
    "def traverse(node, themrole_set):\n",
    "    themrole_set.add(node['value'].lower())\n",
    "    for child in node.get('children', []):\n",
    "        traverse(child, themrole_set)\n",
    "    return themrole_set\n",
    "\n",
    "themrole_tree_set = traverse(tree_data, themrole_tree_set)\n",
    "print(f\"total themroles in themrole hierarchy: {len(themrole_tree_set)}\")"
   ]
  },
  {
   "cell_type": "markdown",
   "id": "f244e8c7",
   "metadata": {},
   "source": [
    "### ThemRoles in VerbNet annotation\n",
    "\n",
    "Although the standard set contains 41 thematic roles, the application of these roles within the VerbNet annotation is more complex. To accommodate the variety of natural language while maintaining a high level abstract thematic role set, VerbNet annotation frequently employs constant thematic roles. These constants are designated for specific uses and are not considered part of the general thematic role set. A complicating factor is that not all constants are explicitly marked as such.\n",
    "\n",
    "The principle for distinguishing between a thematic role and a constant is as follows: A role is identified as a thematic role if it is explicitly marked with the `ThemRole` type in the annotation or if it is one of the standard thematic roles. Otherwise, it is classified as a constant. A similar logic is applied when determining the arguments for the extracted action model.\n",
    "\n",
    "Applying this rule, a total of 46 thematic roles were identified within VerbNet. This set includes some annotation errors and certain roles that are not present in the standard thematic role hierarchy. Since this work relies on the hierarchy to assess the similarity between thematic roles, these non standard roles are also treated as constants. Conversely, five of the standard thematic roles were never instantiated in the annotation. This observation aligns with the expectation that VerbNet annotation uses thematic roles that are as specific as possible to the verb's meaning. The five uninstantiated roles are all located at the top of the hierarchy, which suggests they function as abstract roles."
   ]
  },
  {
   "cell_type": "code",
   "execution_count": 3,
   "id": "74cac848",
   "metadata": {},
   "outputs": [
    {
     "name": "stdout",
     "output_type": "stream",
     "text": [
      "Total number of ThemRoles in VerbNet: 46\n",
      "Total number of Constant in VerbNet: 62\n",
      "ThemRoles in Verbnet only:\n",
      " {'destination_time', 'e2', 'path', 'v_final_state', 'circumstance', 'v_manner', 'v_vehicle', 'initial_time', 'e1', 'v_state'}\n",
      "Themroles in heirarchy only:\n",
      " {'place', 'participants', 'undergoer', 'property', 'locus'}\n"
     ]
    }
   ],
   "source": [
    "from vn2am.parser import get_VN_entries, get_semantics, get_frames\n",
    "from vn2am.utils import remove_themrole_mark\n",
    "\n",
    "vn_themrole_set = set()\n",
    "vn_constant_set = set()\n",
    "\n",
    "vndata = get_VN_entries(vn_dir)\n",
    "frames = get_frames(vndata)\n",
    "for entry in vndata:\n",
    "    class_id = entry.get('class_id', 'Unknown')\n",
    "    frames = entry.get('frames', [])\n",
    "    for i, frame in enumerate(frames):\n",
    "        semantics = get_semantics(frame)\n",
    "        for semantic in semantics:\n",
    "            _, predicate_name, args, bool_value = semantic\n",
    "            for arg_type, arg_value in args:\n",
    "                if arg_type == 'ThemRole':\n",
    "                    vn_themrole_set.add(remove_themrole_mark(arg_value))\n",
    "                elif arg_value.removeprefix(\"?\").lower() in themrole_tree_set:\n",
    "                    vn_themrole_set.add(remove_themrole_mark(arg_value))\n",
    "                else:\n",
    "                    vn_constant_set.add(arg_value)\n",
    "\n",
    "print(f\"Total number of ThemRoles in VerbNet: {len(vn_themrole_set)}\")\n",
    "print(f\"Total number of Constant in VerbNet: {len(vn_constant_set)}\")\n",
    "print(\"ThemRoles in Verbnet only:\\n\", vn_themrole_set - themrole_tree_set)\n",
    "print(\"Themroles in heirarchy only:\\n\", themrole_tree_set - vn_themrole_set)\n"
   ]
  },
  {
   "cell_type": "markdown",
   "id": "2d022433",
   "metadata": {},
   "source": [
    "## Reference\n",
    "\n",
    "[1] Kipper Schuler, K.: VerbNet: A Broad-Coverage, Comprehensive Verb Lexicon. PhD thesis, University of Pennsylvania (2005)\n",
    "\n",
    "[2] https://uvi.colorado.edu/references_page"
   ]
  }
 ],
 "metadata": {
  "kernelspec": {
   "display_name": "verbnet2actionmodel",
   "language": "python",
   "name": "python3"
  },
  "language_info": {
   "codemirror_mode": {
    "name": "ipython",
    "version": 3
   },
   "file_extension": ".py",
   "mimetype": "text/x-python",
   "name": "python",
   "nbconvert_exporter": "python",
   "pygments_lexer": "ipython3",
   "version": "3.12.3"
  }
 },
 "nbformat": 4,
 "nbformat_minor": 5
}
