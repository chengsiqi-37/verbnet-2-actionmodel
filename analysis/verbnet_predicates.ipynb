{
 "cells": [
  {
   "cell_type": "markdown",
   "id": "035a92e0",
   "metadata": {},
   "source": [
    "# Predicates in VerbNet 3.4\n",
    "\n",
    "A crucial component of the extracted action model is the predicate, particularly the state predicates that are integral to defining the semantic roles and relationships within VerbNet. This section provides a quantitative overview of the predicates present in the VerbNet 3.4 annotation."
   ]
  },
  {
   "cell_type": "code",
   "execution_count": 1,
   "id": "bce73f0c",
   "metadata": {},
   "outputs": [],
   "source": [
    "data_dir = '../src/data'\n",
    "with open(f'{data_dir}/activity_predicates.txt', 'r', encoding='utf-8') as f:\n",
    "    activity_pred_list = [line.strip() for line in f if line.strip()]\n",
    "with open(f'{data_dir}/temporal_predicates.txt', 'r', encoding='utf-8') as f:\n",
    "    temporal_pred_list = [line.strip() for line in f if line.strip()]"
   ]
  },
  {
   "cell_type": "markdown",
   "id": "0333d32b",
   "metadata": {},
   "source": [
    "### Defining predicates\n",
    "\n",
    "In the context of VerbNet, a *predicate* is a fundamental semantic unit composed of a name, a set of arguments, and a Boolean value indicating its truth condition. It is important to note that predicates with the same name can differ in their arguments or their Boolean value. To account for this variation, all forms of a predicate are collected under a single predicate name. The following code shows there 163 predicates, and they form 515 use cases wit different arguments and negated sign."
   ]
  },
  {
   "cell_type": "code",
   "execution_count": 2,
   "id": "126b5c30",
   "metadata": {},
   "outputs": [
    {
     "name": "stdout",
     "output_type": "stream",
     "text": [
      "total number of predicates: 163\n",
      "total number of predicates with arguments: 515\n"
     ]
    }
   ],
   "source": [
    "from vn2am.parser import get_VN_entries, get_frames, get_semantics\n",
    "from vn2am.utils import formatted_predicate\n",
    "\n",
    "\"\"\"\n",
    "Collect predicates from VerbNet entries\n",
    "Each predicate is stored in a dictionary with its positive and negative forms\n",
    "\n",
    "The dictionary structure is:\n",
    "{\n",
    "    'predicate_name': {\n",
    "        'positive': [list of positive predicates],\n",
    "        'negative': [list of negative predicates]\n",
    "    }\n",
    "}\n",
    "\"\"\"\n",
    "\n",
    "# Extract all predicates from vn\n",
    "predicate_dict = {}\n",
    "vndata = get_VN_entries(f'{data_dir}/verbnet3.4.json')\n",
    "frames = get_frames(vndata)\n",
    "for entry in vndata:\n",
    "    class_id = entry.get('class_id', '[no ID]')\n",
    "    frames = entry.get('frames', [])\n",
    "    for i, frame in enumerate(frames):\n",
    "        semantics = get_semantics(frame)\n",
    "        for semantic in semantics:\n",
    "            _, predicate_name, args, bool_value = semantic\n",
    "            formatted_pred = formatted_predicate(list(semantic))\n",
    "            # new entry\n",
    "            if predicate_name not in predicate_dict:\n",
    "                    predicate_dict[predicate_name] = {\n",
    "                        'positive': set(),\n",
    "                        'negative': set()\n",
    "                    }\n",
    "            # add to positive or negative set\n",
    "            if bool_value == None:\n",
    "                predicate_dict[predicate_name]['positive'].add(formatted_pred)\n",
    "            elif bool_value == '!':\n",
    "                predicate_dict[predicate_name]['negative'].add(formatted_pred)\n",
    "            else:\n",
    "                raise ValueError(f\"Unexpected bool_value: {bool_value} for predicate {predicate_name}\")\n",
    "\n",
    "# Sort all positive and negative predicates\n",
    "for predicate in predicate_dict:\n",
    "        predicate_dict[predicate]['positive'] = sorted(predicate_dict[predicate]['positive'], key=lambda x: str(x))\n",
    "        predicate_dict[predicate]['negative'] = sorted(predicate_dict[predicate]['negative'], key=lambda x: str(x))\n",
    "all_predicate_count = sum(len(v['positive']) + len(v['negative']) for v in predicate_dict.values())\n",
    "print(f\"total number of predicates: {len(predicate_dict)}\")\n",
    "print(f\"total number of predicates with arguments: {all_predicate_count}\")"
   ]
  },
  {
   "cell_type": "markdown",
   "id": "bc865bef",
   "metadata": {},
   "source": [
    "### Type of predicates\n",
    "\n",
    "Predicates within VerbNet 3.4 is classified into fluent, static, temporal predicates class in the paper. The following count of all predicates reveals the following distribution across different predicate types.\n",
    "\n",
    "The total number of predicates class identified as follows:\n",
    "- Total Fluent Predicates: 475\n",
    "- Total Static Predicates: 19\n",
    "- Total Temporal Predicates: 9\n"
   ]
  },
  {
   "cell_type": "code",
   "execution_count": 3,
   "id": "e1158501",
   "metadata": {},
   "outputs": [
    {
     "name": "stdout",
     "output_type": "stream",
     "text": [
      "Total number of predicates name: 163\n",
      "  total number of fluent predicates: 153\n",
      "  total number of static predicates: 5\n",
      "  total number of temporal predicates: 8\n",
      "\n",
      "Special Cases:\n",
      "  predicate <cause> is fluent and temporal \n",
      "  predicate <part_of> is fluent and static \n",
      "  predicate <cost> is fluent and static \n"
     ]
    }
   ],
   "source": [
    "from vn2am.utils import fst_pred_count\n",
    "\n",
    "fluent_pred, static_pred, temporal_pred, special = fst_pred_count(predicate_dict)\n",
    "\n",
    "print(f\"Total number of predicates name: {len(predicate_dict)}\")\n",
    "print(f\"  total number of fluent predicates: {len(fluent_pred)}\")\n",
    "print(f\"  total number of static predicates: {len(static_pred)}\")\n",
    "print(f\"  total number of temporal predicates: {len(temporal_pred)}\")\n",
    "assert len(temporal_pred) == len(temporal_pred_list), \\\n",
    "    \"The number of temporal predicates in verbnet does not match the number of predefined preidcates\"\n",
    "\n",
    "print(\"\\nSpecial Cases:\")\n",
    "for case in special:\n",
    "    predicate, has_fluent, has_static, has_temporal = case\n",
    "    print(f\"  predicate <{predicate}> is\", end=\" \")\n",
    "    if has_fluent:\n",
    "        print(\"fluent\", end=\" and \")\n",
    "    if has_static:\n",
    "        print(\"static\", end=\" \")\n",
    "    if has_temporal:\n",
    "        print(\"temporal\", end=\" \")\n",
    "    print()"
   ]
  },
  {
   "cell_type": "markdown",
   "id": "8ebd283c",
   "metadata": {},
   "source": [
    "Additionally, the paper categories fluent predicates into activity predicates and state predicates. Based on the results, there are 68 activity predicate and 85 state predicates. The sum of these two categories aligns with the total number of fluent predicates. These state predicates collectively form the basis for constructing the extracted action models."
   ]
  },
  {
   "cell_type": "code",
   "execution_count": 4,
   "id": "f8d3bbaf",
   "metadata": {},
   "outputs": [
    {
     "name": "stdout",
     "output_type": "stream",
     "text": [
      "Total number of activity predicates: 68\n",
      "Total number of state predicates: 85\n"
     ]
    }
   ],
   "source": [
    "state_predicate_dict = {}\n",
    "for predicate, value in predicate_dict.items():\n",
    "    is_fluent = False\n",
    "    if predicate.lower() in activity_pred_list:\n",
    "        continue\n",
    "    for pred in list(value['positive']) + list(value['negative']):\n",
    "        event_count = sum(1 for arg in pred[2] if arg == 'Event')\n",
    "        # Simple rules to determine fluent, static, temporal predicates\n",
    "        if event_count == 1 and len(pred[2]) > 1:\n",
    "            is_fluent = True\n",
    "    if is_fluent:\n",
    "        state_predicate_dict[predicate] = predicate_dict[predicate]\n",
    "\n",
    "print(f\"Total number of activity predicates: {len(activity_pred_list)}\")\n",
    "print(f\"Total number of state predicates: {len(state_predicate_dict)}\")\n",
    "assert len(activity_pred_list) + len(state_predicate_dict) == len(fluent_pred), \"The sum of activity predicates and state predicates is inconsistent with the number of fluent predicates\""
   ]
  },
  {
   "cell_type": "code",
   "execution_count": 5,
   "id": "2dc8c0c2",
   "metadata": {},
   "outputs": [],
   "source": [
    "\"\"\"\n",
    "Export the predicates dictionary into a json file, by default : False\n",
    "\"\"\"\n",
    "import json\n",
    "\n",
    "IS_EXPORT = False\n",
    "OUTPUT_JSON_PATH = '../output/verbnet_predicates.json'\n",
    "\n",
    "if IS_EXPORT:\n",
    "    # Convert sets back to lists for JSON\n",
    "    for key in predicate_dict:\n",
    "        predicate_dict[key]['positive'] = list(predicate_dict[key]['positive'])\n",
    "        predicate_dict[key]['negative'] = list(predicate_dict[key]['negative'])\n",
    "\n",
    "    # Write the collected data to a JSON file\n",
    "    with open(OUTPUT_JSON_PATH, 'w', encoding='utf-8') as json_file:\n",
    "        json.dump(predicate_dict, json_file, indent=2)"
   ]
  }
 ],
 "metadata": {
  "kernelspec": {
   "display_name": "verbnet2actionmodel",
   "language": "python",
   "name": "python3"
  },
  "language_info": {
   "codemirror_mode": {
    "name": "ipython",
    "version": 3
   },
   "file_extension": ".py",
   "mimetype": "text/x-python",
   "name": "python",
   "nbconvert_exporter": "python",
   "pygments_lexer": "ipython3",
   "version": "3.12.3"
  }
 },
 "nbformat": 4,
 "nbformat_minor": 5
}
