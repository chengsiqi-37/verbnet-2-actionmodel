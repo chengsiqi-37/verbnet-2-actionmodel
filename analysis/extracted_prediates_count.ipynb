{
 "cells": [
  {
   "cell_type": "markdown",
   "id": "86fc1764",
   "metadata": {},
   "source": [
    "# Analysis of Predicate Connectivity in Extracted Models\n",
    "\n",
    "This section evaluates the connectivity between extracted models by analysing the appearance of predicates in preconditions and postconditions."
   ]
  },
  {
   "cell_type": "code",
   "execution_count": null,
   "id": "46cc2944",
   "metadata": {},
   "outputs": [],
   "source": [
    "import json\n",
    "\n",
    "INPUT_FILE_PATH = '../examples/extracted_filtered_STRIPS.json'\n",
    "\n",
    "with open(INPUT_FILE_PATH, 'r', encoding='utf-8') as f:\n",
    "    am_data = json.load(f)\n",
    "\n",
    "EXPORT = False"
   ]
  },
  {
   "cell_type": "markdown",
   "id": "1be1f887",
   "metadata": {},
   "source": [
    "To quantify predicate usage, a dictionary was constructed by counting the occurrences of each predicate within the model's preconditions and postconditions."
   ]
  },
  {
   "cell_type": "code",
   "execution_count": null,
   "id": "2a0ef301",
   "metadata": {},
   "outputs": [],
   "source": [
    "def pred_key_to_str(pred_tuple):\n",
    "    bool_value, predicate_name, args_themrole = pred_tuple\n",
    "    return f\"{bool_value}{predicate_name}({', '.join(args_themrole)})\"\n",
    "\n",
    "predicate_dict = {}\n",
    "predicates = set()\n",
    "for entry in am_data:\n",
    "    class_id = entry.get('class_id', 'unknown')\n",
    "    frames = entry.get('frames', [])\n",
    "    for i, frame in enumerate(frames):\n",
    "        preconditions = frame.get('preconditions', [])\n",
    "        postconditions = frame.get('postconditions', [])\n",
    "        class_id_with_frame = f\"{class_id}-frame-{i}\"\n",
    "        \n",
    "        # Check all predicates in preconditions\n",
    "        for condition in preconditions:\n",
    "            name = condition[1]\n",
    "            if name not in predicate_dict:\n",
    "                predicate_dict[name] = {\n",
    "                    'pre_class_id': [class_id_with_frame],\n",
    "                    'post_class_id': []\n",
    "                }\n",
    "            else:\n",
    "                predicate_dict[name]['pre_class_id'].append(\n",
    "                    class_id_with_frame)\n",
    "\n",
    "        # Check all predicates in postconditions\n",
    "        for condition in postconditions:\n",
    "            name = condition[1]\n",
    "            if name not in predicate_dict:\n",
    "                predicate_dict[name] = {\n",
    "                    'pre_class_id': [],\n",
    "                    'post_class_id': [class_id_with_frame],\n",
    "                }\n",
    "            else:\n",
    "                predicate_dict[name]['post_class_id'].append(\n",
    "                    class_id_with_frame)\n",
    "         \n",
    "for key in predicate_dict:\n",
    "    predicate_dict[key]['preconditions_count'] = \\\n",
    "        len(predicate_dict[key]['pre_class_id'])\n",
    "    predicate_dict[key]['postconditions_count'] = \\\n",
    "        len(predicate_dict[key]['post_class_id'])\n",
    "\n",
    "if EXPORT:\n",
    "    with open(\"predicate_dict.json\", 'w', encoding='utf-8') as f:\n",
    "        json.dump(predicate_dict, f, indent=2)"
   ]
  },
  {
   "cell_type": "markdown",
   "id": "e7cb5ecd",
   "metadata": {},
   "source": [
    "Based on this collected data, the predicates were categorised and counted according to whether they appeared in both preconditions and postconditions, only in preconditions, or exclusively in postconditions.\n",
    "\n",
    "The analysis indicates that a total of 80 predicates are utilised in the filtered action models. Among these, 48 appeared in both preconditions and postconditions. Additionally, 27 predicates were found only in postconditions, and 5 were present only in preconditions."
   ]
  },
  {
   "cell_type": "code",
   "execution_count": 13,
   "id": "dcdb604e",
   "metadata": {},
   "outputs": [
    {
     "name": "stdout",
     "output_type": "stream",
     "text": [
      "Number of predicates used in extracted model: 80\n",
      "Number of predicates appear in both preconditions and postconditions: 48\n",
      "Number of predicates not appear in preconditions: 27\n",
      "Number of predicates not appear in postconditions: 5\n"
     ]
    }
   ],
   "source": [
    "def count_empty_condtion(data: dict, condition_type: str) -> tuple:\n",
    "    \"\"\"\n",
    "    Filter out entries with the specified condition type count as 0.\n",
    "    \"\"\"\n",
    "    empty_condition_list = [\n",
    "        (key, value.get('preconditions_count', -1),\n",
    "         value.get('postconditions_count', -1))\n",
    "        for key, value in data.items()\n",
    "        if value.get(condition_type, -1) == 0\n",
    "    ]\n",
    "    return empty_condition_list\n",
    "\n",
    "\n",
    "def count_non_empty_condition(data: dict) -> tuple:\n",
    "    \"\"\"\n",
    "    Filter out entries with the specified condition type count as non-zero.\n",
    "    \"\"\"\n",
    "    non_empty_condition_list = [\n",
    "        (key, value.get('preconditions_count', -1),\n",
    "         value.get('postconditions_count', -1))\n",
    "        for key, value in data.items()\n",
    "        if value.get('preconditions_count', -1) > 0 and value.get('postconditions_count', -1) > 0\n",
    "    ]\n",
    "    return non_empty_condition_list\n",
    "\n",
    "\n",
    "no_precondition_list = count_empty_condtion(predicate_dict, 'preconditions_count')\n",
    "no_postcondition_list = count_empty_condtion(predicate_dict, 'postconditions_count')\n",
    "non_empty_condition_list = count_non_empty_condition(predicate_dict)\n",
    "\n",
    "print(f\"Number of predicates used in extracted model: {len(predicate_dict)}\")\n",
    "print(f\"Number of predicates appear in both preconditions and postconditions: {len(non_empty_condition_list)}\")\n",
    "print(f\"Number of predicates not appear in preconditions: {len(no_precondition_list)}\")\n",
    "print(f\"Number of predicates not appear in postconditions: {len(no_postcondition_list)}\")"
   ]
  }
 ],
 "metadata": {
  "kernelspec": {
   "display_name": "verbnet2actionmodel",
   "language": "python",
   "name": "python3"
  },
  "language_info": {
   "codemirror_mode": {
    "name": "ipython",
    "version": 3
   },
   "file_extension": ".py",
   "mimetype": "text/x-python",
   "name": "python",
   "nbconvert_exporter": "python",
   "pygments_lexer": "ipython3",
   "version": "3.12.3"
  }
 },
 "nbformat": 4,
 "nbformat_minor": 5
}
